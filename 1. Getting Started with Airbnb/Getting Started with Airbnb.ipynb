{
 "cells": [
  {
   "cell_type": "markdown",
   "id": "4395b3f0",
   "metadata": {},
   "source": [
    "#### 1. Loading the Libraries and WebDriver"
   ]
  },
  {
   "cell_type": "code",
   "execution_count": 1,
   "id": "e2bc0880",
   "metadata": {
    "scrolled": true
   },
   "outputs": [
    {
     "name": "stderr",
     "output_type": "stream",
     "text": [
      "/var/folders/rq/lwddjvtn5n9gjw05hwrg3hp80000gp/T/ipykernel_14259/2032458033.py:9: DeprecationWarning: executable_path has been deprecated, please pass in a Service object\n",
      "  browser = webdriver.Chrome('/Users/ashishzangra/opt/anaconda3/lib/python3.9/site-packages/chromedriver_binary/chromedriver')\n"
     ]
    }
   ],
   "source": [
    "import time\n",
    "import requests\n",
    "import numpy as np\n",
    "import pandas as pd\n",
    "\n",
    "from bs4 import BeautifulSoup\n",
    "from selenium import webdriver\n",
    "\n",
    "browser = webdriver.Chrome('/Users/ashishzangra/opt/anaconda3/lib/python3.9/site-packages/chromedriver_binary/chromedriver')"
   ]
  },
  {
   "cell_type": "markdown",
   "id": "8b0595a7",
   "metadata": {},
   "source": [
    "#### 2. Opening the Website"
   ]
  },
  {
   "cell_type": "code",
   "execution_count": 2,
   "id": "7dcb38fa",
   "metadata": {},
   "outputs": [],
   "source": [
    "browser.get('https://www.airbnb.co.in/')\n",
    "time.sleep(5)\n",
    "soup = BeautifulSoup(browser.page_source, 'html.parser')\n",
    "time.sleep(5)"
   ]
  },
  {
   "cell_type": "markdown",
   "id": "4c8beb8e",
   "metadata": {},
   "source": [
    "#### 3. Scrolling to the Bottom of the Page"
   ]
  },
  {
   "cell_type": "code",
   "execution_count": 6,
   "id": "77e5a878",
   "metadata": {},
   "outputs": [],
   "source": [
    "i = 0\n",
    "\n",
    "no_of_rest_c = 1\n",
    "no_of_rest_o = 0\n",
    "\n",
    "while True:\n",
    "    \n",
    "    browser.execute_script(\"window.scrollTo(0,\" + str(i) + \")\")\n",
    "    i += 100\n",
    "    time.sleep(.2)\n",
    "\n",
    "    if (i%10000 == 0):\n",
    "        \n",
    "        soup = BeautifulSoup(browser.page_source, 'html.parser')\n",
    "        no_of_rest_c = len(soup.find_all('div', class_ = 'c4mnd7m dir dir-ltr'))\n",
    "        \n",
    "        if (no_of_rest_o == no_of_rest_c):\n",
    "            break\n",
    "        \n",
    "        no_of_rest_o = no_of_rest_c"
   ]
  },
  {
   "cell_type": "markdown",
   "id": "2b6a82df",
   "metadata": {},
   "source": [
    "#### 4. Scraping the Hotel Details"
   ]
  },
  {
   "cell_type": "code",
   "execution_count": 7,
   "id": "c7f9aceb",
   "metadata": {},
   "outputs": [],
   "source": [
    "data = []\n",
    "\n",
    "for sp in soup.find_all('div', class_ = 'c4mnd7m dir dir-ltr'):\n",
    "    \n",
    "    try:\n",
    "        img_link = sp.find('img').get('src')\n",
    "    except:\n",
    "        img_link = np.nan\n",
    "        \n",
    "    try:\n",
    "        id_      = sp.find('div', class_ = 'g1tup9az cb4nyux dir dir-ltr').find_all('div')[0].get('id').strip()[6:]\n",
    "    except:\n",
    "        id_      = np.nan\n",
    "        \n",
    "    try:\n",
    "        name     = sp.find('div', class_ = 'g1tup9az cb4nyux dir dir-ltr').find_all('div')[0].text.strip()\n",
    "    except:\n",
    "        name     = np.nan\n",
    "        \n",
    "    try:\n",
    "        price    = sp.find('div', class_ = 'g1tup9az cb4nyux dir dir-ltr').find_all('span')[7].text.strip()\n",
    "    except:\n",
    "        price    = np.nan\n",
    "        \n",
    "    try:\n",
    "        rating   = sp.find('div', class_ = 'g1tup9az cb4nyux dir dir-ltr').find_all('span')[-1].text.strip()\n",
    "    except:\n",
    "        rating   = np.nan\n",
    "    \n",
    "    \n",
    "    data.append([id_, name, price, rating, img_link])"
   ]
  },
  {
   "cell_type": "markdown",
   "id": "d3be957a",
   "metadata": {},
   "source": [
    "#### 5. Saving the Details in a CSV"
   ]
  },
  {
   "cell_type": "code",
   "execution_count": 8,
   "id": "665d90c7",
   "metadata": {},
   "outputs": [],
   "source": [
    "df = pd.DataFrame(data, columns = ['id', 'name','price','rating','img_link'])\n",
    "\n",
    "df.head()\n",
    "\n",
    "df.to_csv('omg.csv', index = False)"
   ]
  }
 ],
 "metadata": {
  "kernelspec": {
   "display_name": "Python 3 (ipykernel)",
   "language": "python",
   "name": "python3"
  },
  "language_info": {
   "codemirror_mode": {
    "name": "ipython",
    "version": 3
   },
   "file_extension": ".py",
   "mimetype": "text/x-python",
   "name": "python",
   "nbconvert_exporter": "python",
   "pygments_lexer": "ipython3",
   "version": "3.9.7"
  }
 },
 "nbformat": 4,
 "nbformat_minor": 5
}
