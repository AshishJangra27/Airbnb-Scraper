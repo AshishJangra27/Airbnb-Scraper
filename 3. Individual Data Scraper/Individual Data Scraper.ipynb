{
 "cells": [
  {
   "cell_type": "code",
   "execution_count": 39,
   "id": "e984ad96",
   "metadata": {},
   "outputs": [],
   "source": [
    "import requests\n",
    "import numpy as np\n",
    "import pandas as pd\n",
    "from tqdm import tqdm\n",
    "from bs4 import BeautifulSoup"
   ]
  },
  {
   "cell_type": "markdown",
   "id": "5fa4ba6d",
   "metadata": {},
   "source": [
    "### 1. Loading the Dataset"
   ]
  },
  {
   "cell_type": "code",
   "execution_count": 40,
   "id": "ab794179",
   "metadata": {
    "scrolled": true
   },
   "outputs": [
    {
     "data": {
      "text/html": [
       "<div>\n",
       "<style scoped>\n",
       "    .dataframe tbody tr th:only-of-type {\n",
       "        vertical-align: middle;\n",
       "    }\n",
       "\n",
       "    .dataframe tbody tr th {\n",
       "        vertical-align: top;\n",
       "    }\n",
       "\n",
       "    .dataframe thead th {\n",
       "        text-align: right;\n",
       "    }\n",
       "</style>\n",
       "<table border=\"1\" class=\"dataframe\">\n",
       "  <thead>\n",
       "    <tr style=\"text-align: right;\">\n",
       "      <th></th>\n",
       "      <th>id</th>\n",
       "      <th>name</th>\n",
       "      <th>price</th>\n",
       "      <th>rating</th>\n",
       "      <th>img_link</th>\n",
       "      <th>category</th>\n",
       "    </tr>\n",
       "  </thead>\n",
       "  <tbody>\n",
       "    <tr>\n",
       "      <th>0</th>\n",
       "      <td>49849504</td>\n",
       "      <td>Kartepe, Turkey</td>\n",
       "      <td>₹8,078 per night</td>\n",
       "      <td>4.71</td>\n",
       "      <td>https://a0.muscache.com/im/pictures/cf7f3f57-8...</td>\n",
       "      <td>A-frames</td>\n",
       "    </tr>\n",
       "    <tr>\n",
       "      <th>1</th>\n",
       "      <td>50891766</td>\n",
       "      <td>Kaş, Turkey</td>\n",
       "      <td>₹4,665 per night</td>\n",
       "      <td>New</td>\n",
       "      <td>https://a0.muscache.com/im/pictures/449c8751-0...</td>\n",
       "      <td>A-frames</td>\n",
       "    </tr>\n",
       "    <tr>\n",
       "      <th>2</th>\n",
       "      <td>50699164</td>\n",
       "      <td>Imereti, Georgia</td>\n",
       "      <td>₹5,991 per night</td>\n",
       "      <td>4.85</td>\n",
       "      <td>https://a0.muscache.com/im/pictures/miso/Hosti...</td>\n",
       "      <td>A-frames</td>\n",
       "    </tr>\n",
       "    <tr>\n",
       "      <th>3</th>\n",
       "      <td>49871422</td>\n",
       "      <td>Sapanca, Turkey</td>\n",
       "      <td>₹11,339 per night</td>\n",
       "      <td>5.0</td>\n",
       "      <td>https://a0.muscache.com/im/pictures/72e6396e-e...</td>\n",
       "      <td>A-frames</td>\n",
       "    </tr>\n",
       "    <tr>\n",
       "      <th>4</th>\n",
       "      <td>51245886</td>\n",
       "      <td>Sapanca, Turkey</td>\n",
       "      <td>₹6,673 per night</td>\n",
       "      <td>New</td>\n",
       "      <td>https://a0.muscache.com/im/pictures/73973308-e...</td>\n",
       "      <td>A-frames</td>\n",
       "    </tr>\n",
       "  </tbody>\n",
       "</table>\n",
       "</div>"
      ],
      "text/plain": [
       "         id              name              price rating  \\\n",
       "0  49849504   Kartepe, Turkey   ₹8,078 per night   4.71   \n",
       "1  50891766       Kaş, Turkey   ₹4,665 per night    New   \n",
       "2  50699164  Imereti, Georgia   ₹5,991 per night   4.85   \n",
       "3  49871422   Sapanca, Turkey  ₹11,339 per night    5.0   \n",
       "4  51245886   Sapanca, Turkey   ₹6,673 per night    New   \n",
       "\n",
       "                                            img_link  category  \n",
       "0  https://a0.muscache.com/im/pictures/cf7f3f57-8...  A-frames  \n",
       "1  https://a0.muscache.com/im/pictures/449c8751-0...  A-frames  \n",
       "2  https://a0.muscache.com/im/pictures/miso/Hosti...  A-frames  \n",
       "3  https://a0.muscache.com/im/pictures/72e6396e-e...  A-frames  \n",
       "4  https://a0.muscache.com/im/pictures/73973308-e...  A-frames  "
      ]
     },
     "execution_count": 40,
     "metadata": {},
     "output_type": "execute_result"
    }
   ],
   "source": [
    "df = pd.read_csv('data.csv')\n",
    "df.head()"
   ]
  },
  {
   "cell_type": "markdown",
   "id": "bda60af4",
   "metadata": {},
   "source": [
    "### 2. Scraping the data in CSV Format"
   ]
  },
  {
   "cell_type": "code",
   "execution_count": 42,
   "id": "7f992048",
   "metadata": {},
   "outputs": [
    {
     "name": "stderr",
     "output_type": "stream",
     "text": [
      "100%|███████████████████████████████████| 14456/14456 [5:05:11<00:00,  1.27s/it]\n"
     ]
    }
   ],
   "source": [
    "data = []\n",
    "prefix = 'https://www.airbnb.co.in/rooms/'\n",
    "\n",
    "for id_ in tqdm(df['id']):\n",
    "    \n",
    "    link = prefix + str(id_)\n",
    "    res = requests.get(link)\n",
    "    soup = BeautifulSoup(res.content, 'html.parser')\n",
    "\n",
    "    try:\n",
    "        name    = soup.find('h1').text.strip()\n",
    "    except:\n",
    "        name    = np.nan\n",
    "\n",
    "    try:\n",
    "        rating  = soup.find_all('span', class_ = '_1jvg42j')[0].find_all('span')[-2].text.strip().split(' ')[0]\n",
    "    except:\n",
    "        rating  = np.nan\n",
    "\n",
    "    try:\n",
    "        reviews = soup.find_all('span', class_ = '_1jvg42j')[0].find_all('span')[-1].find('button').text.strip().split(' ')[0]\n",
    "    except:\n",
    "        reviews = np.nan\n",
    "\n",
    "    try:\n",
    "        address = soup.find_all('span', class_ = '_1jvg42j')[-1].text.strip()\n",
    "    except:\n",
    "        address = np.nan\n",
    "\n",
    "    try:\n",
    "        img_links = ' '.join([sp.get('src') for sp in soup.find('div', class_ = '_88xxct').find_all('img')])\n",
    "    except:\n",
    "        img_links = np.nan\n",
    "\n",
    "\n",
    "    try:\n",
    "        host_name = soup.find('h2').text.strip()\n",
    "    except:\n",
    "        host_name = np.nan\n",
    "\n",
    "\n",
    "    try:\n",
    "        features = []\n",
    "        for sp in soup.find('ol', class_ = 'lgx66tx dir dir-ltr').find_all('li', class_ = 'l7n4lsf dir dir-ltr'):\n",
    "            for i in sp.text.strip().split('·'):\n",
    "                if (i != ''):\n",
    "                    features.append(i.strip())\n",
    "        features = ','.join(features)\n",
    "    except:\n",
    "        features = np.nan\n",
    "\n",
    "    try:\n",
    "        host_id = soup.find('div', class_ = 'c6y5den dir dir-ltr').find('a').get('href').split('/')[-1]    \n",
    "    except:\n",
    "        host_id = np.nan\n",
    "\n",
    "    try:    \n",
    "        house_rules  = ','.join([sp.text for sp in soup.find_all('div', class_ = 'cihcm8w dir dir-ltr')[0].find_all('span')])\n",
    "        safety_rules = ','.join([sp.text for sp in soup.find_all('div', class_ = 'cihcm8w dir dir-ltr')[1].find_all('span')])\n",
    "    except:\n",
    "        house_rules  = np.nan\n",
    "        safety_rules = np.nan\n",
    "\n",
    "    try:\n",
    "        amenities    = ','.join([sp.text for sp in soup.find('div', class_ = '_1byskwn').find_all('div', class_ = 'iikjzje i10xc1ab dir dir-ltr')])\n",
    "    except:\n",
    "        amenities    = np.nan\n",
    "\n",
    "    data.append([id_ ,name, rating, reviews, host_name, host_id ,address, features, amenities, safety_rules, house_rules, img_links])\n",
    "    \n",
    "data = pd.DataFrame(data, columns = ['id', 'name','rating','reviews','host_name','host_id','address',\n",
    "                                     'features','amenities','safety_rules','hourse_rules','img_links'])"
   ]
  },
  {
   "cell_type": "markdown",
   "id": "6288844d",
   "metadata": {},
   "source": [
    "### 3. Preprocessing the Data | Combining"
   ]
  },
  {
   "cell_type": "code",
   "execution_count": 43,
   "id": "5913c260",
   "metadata": {},
   "outputs": [],
   "source": [
    "data['price'] = df['price']\n",
    "data['rating'] = df['rating']"
   ]
  },
  {
   "cell_type": "markdown",
   "id": "bce5003d",
   "metadata": {},
   "source": [
    "### 4. Saving the CSV"
   ]
  },
  {
   "cell_type": "code",
   "execution_count": 44,
   "id": "b7bab77c",
   "metadata": {},
   "outputs": [],
   "source": [
    "data.to_csv('airbnb.csv', index = False)"
   ]
  },
  {
   "cell_type": "markdown",
   "id": "b196e154",
   "metadata": {},
   "source": [
    "### 5. Data Preprocessing"
   ]
  },
  {
   "cell_type": "code",
   "execution_count": 110,
   "id": "3cbe6452",
   "metadata": {
    "scrolled": true
   },
   "outputs": [
    {
     "data": {
      "text/plain": [
       "id                 0\n",
       "name               1\n",
       "rating             0\n",
       "reviews         2744\n",
       "host_name          1\n",
       "host_id          439\n",
       "address           27\n",
       "features          27\n",
       "amenities        989\n",
       "safety_rules     209\n",
       "hourse_rules     209\n",
       "img_links         27\n",
       "price              0\n",
       "dtype: int64"
      ]
     },
     "execution_count": 110,
     "metadata": {},
     "output_type": "execute_result"
    }
   ],
   "source": [
    "data = pd.read_csv('airbnb.csv')\n",
    "data.isnull().sum()"
   ]
  },
  {
   "cell_type": "markdown",
   "id": "8f4254a8",
   "metadata": {},
   "source": [
    "##### 5.1) Dealing with Reviews"
   ]
  },
  {
   "cell_type": "code",
   "execution_count": 111,
   "id": "14493368",
   "metadata": {},
   "outputs": [],
   "source": [
    "data['reviews'] = data['reviews'].fillna(0)                 # Filled Values with 0"
   ]
  },
  {
   "cell_type": "markdown",
   "id": "2d5150fc",
   "metadata": {},
   "source": [
    "##### 5.2) Dealing with Safety and House Rules"
   ]
  },
  {
   "cell_type": "code",
   "execution_count": 112,
   "id": "fbade95b",
   "metadata": {},
   "outputs": [],
   "source": [
    "data['safety_rules'] = data['safety_rules'].fillna('Not Available')    # Filled Values with Not Available\n",
    "data['hourse_rules'] = data['hourse_rules'].fillna('Not Available')    # Filled Values with Not Available"
   ]
  },
  {
   "cell_type": "markdown",
   "id": "a9705499",
   "metadata": {},
   "source": [
    "##### 5.3) Dealing with Host_ID"
   ]
  },
  {
   "cell_type": "code",
   "execution_count": 113,
   "id": "84e0a6d2",
   "metadata": {},
   "outputs": [],
   "source": [
    "data['host_id'] = data['host_id'].fillna('Not Available')              # Filled Values with Not Available"
   ]
  },
  {
   "cell_type": "markdown",
   "id": "733319eb",
   "metadata": {},
   "source": [
    "##### 5.4) Removing the remaining rows with null values"
   ]
  },
  {
   "cell_type": "code",
   "execution_count": 114,
   "id": "5a04c46e",
   "metadata": {},
   "outputs": [],
   "source": [
    "data = data.dropna()"
   ]
  },
  {
   "cell_type": "markdown",
   "id": "046f6eaa",
   "metadata": {},
   "source": [
    "##### 5.5) Removing Duplicate Stays"
   ]
  },
  {
   "cell_type": "code",
   "execution_count": 136,
   "id": "af3202f6",
   "metadata": {},
   "outputs": [],
   "source": [
    "df_ = []\n",
    "\n",
    "for i in data['id'].unique():\n",
    "    df_.append(data[data['id'] == i].values[0])\n",
    "    \n",
    "df_ = pd.DataFrame(df_, columns = list(data.columns))"
   ]
  },
  {
   "cell_type": "markdown",
   "id": "ebde0805",
   "metadata": {},
   "source": [
    "##### 5.6) Preprocessing Host-Name"
   ]
  },
  {
   "cell_type": "code",
   "execution_count": 164,
   "id": "6c0b435f",
   "metadata": {},
   "outputs": [],
   "source": [
    "host_name = []\n",
    "\n",
    "for i in df_['host_name']:\n",
    "    \n",
    "    i = i.split('by')[-1].strip() \n",
    "    i = i.replace('\\xa0',' ')\n",
    "    \n",
    "    host_name.append(i)\n",
    "    \n",
    "df_['host_name'] = host_name"
   ]
  },
  {
   "cell_type": "markdown",
   "id": "81fc36d7",
   "metadata": {},
   "source": [
    "##### 5.7) Creating Country Column"
   ]
  },
  {
   "cell_type": "code",
   "execution_count": 173,
   "id": "32a5f07d",
   "metadata": {},
   "outputs": [],
   "source": [
    "country = [i.split(',')[-1] for i in df_['address']]\n",
    "\n",
    "df_['country'] = country"
   ]
  },
  {
   "cell_type": "markdown",
   "id": "cc7056e8",
   "metadata": {},
   "source": [
    "##### 5.8) Finding the Features"
   ]
  },
  {
   "cell_type": "code",
   "execution_count": 227,
   "id": "876777c8",
   "metadata": {},
   "outputs": [],
   "source": [
    "temp = []                        # Sepperating the Features\n",
    "temp_ = []  \n",
    "for i in df_['features']:\n",
    "    temp += i.split(',')\n",
    "    \n",
    "                                 # Finding Feature Category\n",
    "for i in set(temp):    \n",
    "    if (i == ''):\n",
    "        pass\n",
    "    elif (i == 'Toilet with sink' or i == 'Shared toilet with sink' or i == 'Private toilet with sink'): # bathroom\n",
    "        temp_.append('bathroom')\n",
    "    elif (i =='Studio'):                     # studio\n",
    "        temp.append('studio')\n",
    "    else: \n",
    "        if ' '.join((i.split(' ')[1:])) == '':\n",
    "            temp_.append(i)  \n",
    "        else:\n",
    "            temp_.append(' '.join((i.split(' ')[1:])))"
   ]
  },
  {
   "cell_type": "code",
   "execution_count": 299,
   "id": "99a42bfd",
   "metadata": {},
   "outputs": [],
   "source": [
    "# Creating the Lists for each Feature\n",
    "\n",
    "bedrooms  = []\n",
    "guests    = []\n",
    "beds      = []\n",
    "bathrooms = []\n",
    "toilets   = []\n",
    "studios   = []\n",
    "\n",
    "for i in df_['features']:\n",
    "     \n",
    "    guest    = 0\n",
    "    bathroom = 0\n",
    "    bedroom  = 0\n",
    "    bed      = 0\n",
    "    toilet   = 0\n",
    "    studio   = 0\n",
    "    \n",
    "    for feat in i.split(','):\n",
    "        \n",
    "        if ('guest' in feat):\n",
    "            guest = int(float(feat.split(' ')[0].strip()))\n",
    "            \n",
    "        elif ('bath' in feat):\n",
    "            bathroom = int(float(feat.split(' ')[0].strip()))\n",
    "          \n",
    "        elif ('bedroom' in feat):\n",
    "            bedroom = int(float(feat.split(' ')[0].strip()))\n",
    "            \n",
    "        elif ('bed' in feat and 'bedroom' not in feat):\n",
    "            bed = int(float(feat.split(' ')[0].strip()))\n",
    "            \n",
    "        elif ('Toilet' in feat or 'toilet' in feat):\n",
    "            toilet = 1\n",
    "  \n",
    "        elif ('Studio' in feat):\n",
    "            studio = 1\n",
    "            \n",
    "        else:\n",
    "            print(feat)\n",
    "            \n",
    "        \n",
    "    bedrooms.append(bedroom)\n",
    "    beds.append(bed)\n",
    "    guests.append(guest)\n",
    "    bathrooms.append(bathroom)\n",
    "    toilets.append(toilet)\n",
    "    studios.append(studio)"
   ]
  },
  {
   "cell_type": "code",
   "execution_count": 301,
   "id": "ebbfa812",
   "metadata": {
    "scrolled": true
   },
   "outputs": [
    {
     "data": {
      "text/html": [
       "<div>\n",
       "<style scoped>\n",
       "    .dataframe tbody tr th:only-of-type {\n",
       "        vertical-align: middle;\n",
       "    }\n",
       "\n",
       "    .dataframe tbody tr th {\n",
       "        vertical-align: top;\n",
       "    }\n",
       "\n",
       "    .dataframe thead th {\n",
       "        text-align: right;\n",
       "    }\n",
       "</style>\n",
       "<table border=\"1\" class=\"dataframe\">\n",
       "  <thead>\n",
       "    <tr style=\"text-align: right;\">\n",
       "      <th></th>\n",
       "      <th>id</th>\n",
       "      <th>name</th>\n",
       "      <th>rating</th>\n",
       "      <th>reviews</th>\n",
       "      <th>host_name</th>\n",
       "      <th>host_id</th>\n",
       "      <th>address</th>\n",
       "      <th>features</th>\n",
       "      <th>amenities</th>\n",
       "      <th>safety_rules</th>\n",
       "      <th>hourse_rules</th>\n",
       "      <th>img_links</th>\n",
       "      <th>price</th>\n",
       "      <th>country</th>\n",
       "      <th>bathrooms</th>\n",
       "      <th>beds</th>\n",
       "      <th>guests</th>\n",
       "      <th>toiles</th>\n",
       "      <th>bedrooms</th>\n",
       "      <th>studios</th>\n",
       "    </tr>\n",
       "  </thead>\n",
       "  <tbody>\n",
       "    <tr>\n",
       "      <th>0</th>\n",
       "      <td>49849504</td>\n",
       "      <td>Perla bungalov</td>\n",
       "      <td>4.71</td>\n",
       "      <td>64</td>\n",
       "      <td>Mehmetcan</td>\n",
       "      <td>357334205.0</td>\n",
       "      <td>Kartepe, Kocaeli, Turkey</td>\n",
       "      <td>2 guests,2 bedrooms,1 bed,1 bathroom</td>\n",
       "      <td>Mountain view,Valley view,Lake access,Kitchen,...</td>\n",
       "      <td>󹀁,Airbnb's COVID-19 safety practices apply,󱠃,N...</td>\n",
       "      <td>Check-in: Flexible,Check out: 12:00 pm,Pets ar...</td>\n",
       "      <td>https://a0.muscache.com/im/pictures/a5da5cb7-c...</td>\n",
       "      <td>₹8,078 per night</td>\n",
       "      <td>Turkey</td>\n",
       "      <td>1</td>\n",
       "      <td>1</td>\n",
       "      <td>2</td>\n",
       "      <td>0</td>\n",
       "      <td>2</td>\n",
       "      <td>0</td>\n",
       "    </tr>\n",
       "    <tr>\n",
       "      <th>1</th>\n",
       "      <td>50891766</td>\n",
       "      <td>Authentic Beach Architect Sheltered Villa with...</td>\n",
       "      <td>New</td>\n",
       "      <td>0</td>\n",
       "      <td>Fatih</td>\n",
       "      <td>386223873.0</td>\n",
       "      <td>Kaş, Antalya, Turkey</td>\n",
       "      <td>4 guests,2 bedrooms,2 beds,2 bathrooms</td>\n",
       "      <td>Kitchen,Wifi,Dedicated workspace,Free parking ...</td>\n",
       "      <td>󹀁,Airbnb's COVID-19 safety practices apply,󱠆,C...</td>\n",
       "      <td>Check-in: 4:00 pm - 11:00 pm,Check out: 10:00 ...</td>\n",
       "      <td>https://a0.muscache.com/im/pictures/61b70855-2...</td>\n",
       "      <td>₹4,665 per night</td>\n",
       "      <td>Turkey</td>\n",
       "      <td>2</td>\n",
       "      <td>2</td>\n",
       "      <td>4</td>\n",
       "      <td>0</td>\n",
       "      <td>2</td>\n",
       "      <td>0</td>\n",
       "    </tr>\n",
       "    <tr>\n",
       "      <th>2</th>\n",
       "      <td>50699164</td>\n",
       "      <td>cottages sataplia</td>\n",
       "      <td>4.85</td>\n",
       "      <td>68</td>\n",
       "      <td>Giorgi</td>\n",
       "      <td>409690853.0</td>\n",
       "      <td>Imereti, Georgia</td>\n",
       "      <td>4 guests,1 bedroom,3 beds,1 bathroom</td>\n",
       "      <td>Mountain view,Kitchen,Wifi,Dedicated workspace...</td>\n",
       "      <td>󹀁,Airbnb's COVID-19 safety practices apply,󱠃,N...</td>\n",
       "      <td>Check-in: After 1:00 pm,Check out: 12:00 pm,Se...</td>\n",
       "      <td>https://a0.muscache.com/im/pictures/miso/Hosti...</td>\n",
       "      <td>₹5,991 per night</td>\n",
       "      <td>Georgia</td>\n",
       "      <td>1</td>\n",
       "      <td>3</td>\n",
       "      <td>4</td>\n",
       "      <td>0</td>\n",
       "      <td>1</td>\n",
       "      <td>0</td>\n",
       "    </tr>\n",
       "    <tr>\n",
       "      <th>3</th>\n",
       "      <td>49871422</td>\n",
       "      <td>Sapanca Breathable Bungalow</td>\n",
       "      <td>5.0</td>\n",
       "      <td>13</td>\n",
       "      <td>Melih</td>\n",
       "      <td>401873242.0</td>\n",
       "      <td>Sapanca, Sakarya, Turkey</td>\n",
       "      <td>4 guests,1 bedroom,2 beds,1 bathroom</td>\n",
       "      <td>Mountain view,Valley view,Kitchen,Wifi,Free pa...</td>\n",
       "      <td>󹀁,Airbnb's COVID-19 safety practices apply,󱠃,N...</td>\n",
       "      <td>Check-in: After 2:00 pm,Check out: 12:00 pm,No...</td>\n",
       "      <td>https://a0.muscache.com/im/pictures/72e6396e-e...</td>\n",
       "      <td>₹11,339 per night</td>\n",
       "      <td>Turkey</td>\n",
       "      <td>1</td>\n",
       "      <td>2</td>\n",
       "      <td>4</td>\n",
       "      <td>0</td>\n",
       "      <td>1</td>\n",
       "      <td>0</td>\n",
       "    </tr>\n",
       "    <tr>\n",
       "      <th>4</th>\n",
       "      <td>51245886</td>\n",
       "      <td>Bungalov Ev 2</td>\n",
       "      <td>New</td>\n",
       "      <td>0</td>\n",
       "      <td>Arp Sapanca</td>\n",
       "      <td>414884116.0</td>\n",
       "      <td>Sapanca, Sakarya, Turkey</td>\n",
       "      <td>2 guests,1 bedroom,1 bed,1 bathroom</td>\n",
       "      <td>Kitchen,Wifi,Free parking on premises,TV,Air c...</td>\n",
       "      <td>󹀁,Airbnb's COVID-19 safety practices apply,󱠆,C...</td>\n",
       "      <td>Check-in: After 2:00 pm,Check out: 12:00 pm,No...</td>\n",
       "      <td>https://a0.muscache.com/im/pictures/73973308-e...</td>\n",
       "      <td>₹6,673 per night</td>\n",
       "      <td>Turkey</td>\n",
       "      <td>1</td>\n",
       "      <td>1</td>\n",
       "      <td>2</td>\n",
       "      <td>0</td>\n",
       "      <td>1</td>\n",
       "      <td>0</td>\n",
       "    </tr>\n",
       "  </tbody>\n",
       "</table>\n",
       "</div>"
      ],
      "text/plain": [
       "         id                                               name rating reviews  \\\n",
       "0  49849504                                     Perla bungalov   4.71      64   \n",
       "1  50891766  Authentic Beach Architect Sheltered Villa with...    New       0   \n",
       "2  50699164                                  cottages sataplia   4.85      68   \n",
       "3  49871422                        Sapanca Breathable Bungalow    5.0      13   \n",
       "4  51245886                                      Bungalov Ev 2    New       0   \n",
       "\n",
       "     host_name      host_id                   address  \\\n",
       "0    Mehmetcan  357334205.0  Kartepe, Kocaeli, Turkey   \n",
       "1        Fatih  386223873.0      Kaş, Antalya, Turkey   \n",
       "2       Giorgi  409690853.0          Imereti, Georgia   \n",
       "3        Melih  401873242.0  Sapanca, Sakarya, Turkey   \n",
       "4  Arp Sapanca  414884116.0  Sapanca, Sakarya, Turkey   \n",
       "\n",
       "                                 features  \\\n",
       "0    2 guests,2 bedrooms,1 bed,1 bathroom   \n",
       "1  4 guests,2 bedrooms,2 beds,2 bathrooms   \n",
       "2    4 guests,1 bedroom,3 beds,1 bathroom   \n",
       "3    4 guests,1 bedroom,2 beds,1 bathroom   \n",
       "4     2 guests,1 bedroom,1 bed,1 bathroom   \n",
       "\n",
       "                                           amenities  \\\n",
       "0  Mountain view,Valley view,Lake access,Kitchen,...   \n",
       "1  Kitchen,Wifi,Dedicated workspace,Free parking ...   \n",
       "2  Mountain view,Kitchen,Wifi,Dedicated workspace...   \n",
       "3  Mountain view,Valley view,Kitchen,Wifi,Free pa...   \n",
       "4  Kitchen,Wifi,Free parking on premises,TV,Air c...   \n",
       "\n",
       "                                        safety_rules  \\\n",
       "0  󹀁,Airbnb's COVID-19 safety practices apply,󱠃,N...   \n",
       "1  󹀁,Airbnb's COVID-19 safety practices apply,󱠆,C...   \n",
       "2  󹀁,Airbnb's COVID-19 safety practices apply,󱠃,N...   \n",
       "3  󹀁,Airbnb's COVID-19 safety practices apply,󱠃,N...   \n",
       "4  󹀁,Airbnb's COVID-19 safety practices apply,󱠆,C...   \n",
       "\n",
       "                                        hourse_rules  \\\n",
       "0  Check-in: Flexible,Check out: 12:00 pm,Pets ar...   \n",
       "1  Check-in: 4:00 pm - 11:00 pm,Check out: 10:00 ...   \n",
       "2  Check-in: After 1:00 pm,Check out: 12:00 pm,Se...   \n",
       "3  Check-in: After 2:00 pm,Check out: 12:00 pm,No...   \n",
       "4  Check-in: After 2:00 pm,Check out: 12:00 pm,No...   \n",
       "\n",
       "                                           img_links              price  \\\n",
       "0  https://a0.muscache.com/im/pictures/a5da5cb7-c...   ₹8,078 per night   \n",
       "1  https://a0.muscache.com/im/pictures/61b70855-2...   ₹4,665 per night   \n",
       "2  https://a0.muscache.com/im/pictures/miso/Hosti...   ₹5,991 per night   \n",
       "3  https://a0.muscache.com/im/pictures/72e6396e-e...  ₹11,339 per night   \n",
       "4  https://a0.muscache.com/im/pictures/73973308-e...   ₹6,673 per night   \n",
       "\n",
       "    country  bathrooms  beds  guests  toiles  bedrooms  studios  \n",
       "0    Turkey          1     1       2       0         2        0  \n",
       "1    Turkey          2     2       4       0         2        0  \n",
       "2   Georgia          1     3       4       0         1        0  \n",
       "3    Turkey          1     2       4       0         1        0  \n",
       "4    Turkey          1     1       2       0         1        0  "
      ]
     },
     "execution_count": 301,
     "metadata": {},
     "output_type": "execute_result"
    }
   ],
   "source": [
    "df_['bathrooms'] = bathrooms\n",
    "df_['beds']      = beds\n",
    "df_['guests']    = guests\n",
    "df_['toiles']    = toilets\n",
    "df_['bedrooms']  = bedrooms\n",
    "df_['studios']   = studios\n",
    "\n",
    "df_.head()"
   ]
  },
  {
   "cell_type": "markdown",
   "id": "f03456a4",
   "metadata": {},
   "source": [
    "##### 5.9) Finding CheckIn Checkout Time"
   ]
  },
  {
   "cell_type": "code",
   "execution_count": 328,
   "id": "a3ef4e6b",
   "metadata": {
    "scrolled": true
   },
   "outputs": [],
   "source": [
    "checkin  = []\n",
    "checkout = []\n",
    "\n",
    "\n",
    "for i in df_['hourse_rules']:\n",
    "    \n",
    "    in_time  = 'NA'\n",
    "    out_time = 'NA'\n",
    "    \n",
    "    for feat in (i.split(',')):\n",
    "        \n",
    "        if 'Check-in' in feat:\n",
    "            in_time = ' '.join(feat.split(':')[1:])\n",
    "            \n",
    "        elif 'Check out' in feat:\n",
    "            out_time = ' '.join(feat.split(':')[1:])\n",
    "            \n",
    "            \n",
    "    checkin.append(in_time)\n",
    "    checkout.append(out_time)\n",
    "    \n",
    "df_['checkin']  = checkin\n",
    "df_['checkout'] = checkout"
   ]
  },
  {
   "cell_type": "markdown",
   "id": "0b831697",
   "metadata": {},
   "source": [
    "##### 5.10) Dealing with Price"
   ]
  },
  {
   "cell_type": "code",
   "execution_count": 342,
   "id": "3eec364e",
   "metadata": {},
   "outputs": [],
   "source": [
    "price = []\n",
    "\n",
    "for i in df_['price']:       \n",
    "    price.append(int(i.split(' ')[0][1:].replace(',','')))\n",
    "    \n",
    "df_['price'] = price"
   ]
  },
  {
   "cell_type": "code",
   "execution_count": 344,
   "id": "01454aa5",
   "metadata": {},
   "outputs": [],
   "source": [
    "df_.to_csv('airbnb_v2.csv')"
   ]
  }
 ],
 "metadata": {
  "kernelspec": {
   "display_name": "Python 3 (ipykernel)",
   "language": "python",
   "name": "python3"
  },
  "language_info": {
   "codemirror_mode": {
    "name": "ipython",
    "version": 3
   },
   "file_extension": ".py",
   "mimetype": "text/x-python",
   "name": "python",
   "nbconvert_exporter": "python",
   "pygments_lexer": "ipython3",
   "version": "3.9.7"
  }
 },
 "nbformat": 4,
 "nbformat_minor": 5
}
